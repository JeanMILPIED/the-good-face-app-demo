{
 "cells": [
  {
   "cell_type": "markdown",
   "id": "1d5dfdc7",
   "metadata": {},
   "source": [
    "## How to screen a pdf CV ?"
   ]
  },
  {
   "cell_type": "code",
   "execution_count": 1,
   "id": "5eb02bc6",
   "metadata": {},
   "outputs": [],
   "source": [
    "# importing required modules\n",
    "from PyPDF2 import PdfReader\n",
    "import re\n"
   ]
  },
  {
   "cell_type": "code",
   "execution_count": 2,
   "id": "c5e08e47",
   "metadata": {},
   "outputs": [],
   "source": [
    "def get_text_pdf(my_pdf):\n",
    "    # creating a pdf reader object\n",
    "    reader = PdfReader(my_pdf)\n",
    "    \n",
    "    output=[]\n",
    "    for i in range(len(reader.pages)):\n",
    "\n",
    "        # getting a specific page from the pdf file\n",
    "        page = reader.pages[i]\n",
    "\n",
    "        # extracting text from page\n",
    "        text = page.extract_text()\n",
    "        output.append(text)\n",
    "    return output"
   ]
  },
  {
   "cell_type": "code",
   "execution_count": 26,
   "id": "0313958e",
   "metadata": {
    "scrolled": true
   },
   "outputs": [
    {
     "data": {
      "text/plain": [
       "\"J e a n  M I L P I E D\\nD a t a s c i e n c e  M a n a g e r\\nL i e u  :  P a r i s\\nE m a i l :  j e a n . m i l p i e d @ g m a i l . c o m\\nT e l :  0 6 7 5 4 7 1 7 4 2\\nP R O F I L\\nM a n a g e r\\nt e c h n i q u e\\na v e c\\np l u s\\nd e\\n1 5\\na n s\\nd ' e x p é r i e n c e ,\\nd é v e l o p p e u r\\nP y t h o n\\np a s s i o n n é\\np a r\\nl a\\nD a t a\\ne t\\nl a\\nc o m p u t e r\\nv i s i o n ,\\nj e\\nc o n s t r u i s\\ne t\\nj ' e n c a d r e\\na v e c\\na g i l i t é\\nd e s\\né q u i p e s\\nd a t a\\np e r f o r m a n t e s\\np o u r\\nu n\\ni m p a c t\\nm a x i m u m\\nd e\\nl ' I A\\ns u r\\nl e s\\np r o d u i t s  e t  l e s  a p p l i c a t i o n s  d é p l o y é e s  s u r  l e  c l o u d .\\nC O M P É T E N C E S\\n★★★★★\\n   L e a d e r s h i p  e t  m a n a g e m e n t\\n★★★★☆\\n   D a t a s c i e n c e  ( s t a t s ,  M L ,  D L )\\n★★★★★\\n   P y t h o n\\n★★★★☆\\n   C l o u d  ( A W S )\\n★★★★☆\\nC o m p u t e r\\nV i s i o n\\n( O C R ,\\nY O L O\\nO b j e c t\\nd e t e c t i o n )\\nl i n k e d i n . c o m / i n / j e a n - m - 5 9 5 7 7 8 1 1 8\\nh t t p s : / / g i t h u b . c o m / J e a n M I L P I E D\\nE X P É R I E N C E  P R O F E S S I O N N E L L E\\n*  M a i  2 0 2 0  –  P r é s e n t\\nM a n a g e r  D a t a s c i e n c e  c h e z  A l t a r o a d ,\\nP a r i s ,  F r a n c e\\nR e s p o n s a b l e\\nd e\\nl a\\nr o a d m a p\\nd e s\\nt e c h n o l o g i e s\\nd ' I A\\nn é c e s s a i r e s\\nà\\nu n e\\ne x p é r i e n c e\\nc l i e n t\\no p t i m a l e ,\\nj e\\nc o n s t r u i s\\ne t\\np i l o t e\\nl ’ é q u i p e\\nd a t a .\\nD e p u i s\\nl e s\\nm o d è l e s\\nd e\\nc o m p u t e r\\nv i s i o n\\ne t\\nN L P ,\\nj u s q u ' a u x\\na l g o r i t h m e s\\nd ' a u t o - c a l i b r a t i o n\\nd e s\\nc a p t e u r s\\nI o T ,\\nm e s\\nm i s s i o n s\\ns o n t\\nd e\\nd é c i d e r ,\\no r g a n i s e r ,\\nd é v e l o p p e r ,\\nc o d e r\\ne t\\nm e t t r e\\ne n\\np r o d u c t i o n  l e s  a l g o r i t h m e s  d a n s  n o s  a p p l i c a t i o n s  e t  i n t e r f a c e s  s u r  l e  c l o u d .\\nT e c h n o :  T e n s o r ﬂ o w ,  K e r a s ,  P y t e s s e r a c t ,  Y O L O ,  L a m b d a ,  G i t ,  D o c k e r\\n*  M a i  2 0 1 4  –  S e p t e m b r e  2 0 1 9\\nM a n a g e r  R & D  c h e z  T E  C o n n e c t i v i t y ,\\nT o u l o u s e ,  F r a n c e\\nM a n a g e r\\nd e\\nl ' é q u i p e\\nR & D ,\\nj e\\np i l o t e\\nl e s\\np r o j e t s\\nd ’ i n n o v a t i o n\\nt e c h n o l o g i q u e s\\nd e\\nc a p t e u r s\\na u t o m o b i l e s\\n( P l u i e ,\\na l l u m a g e\\nd e s\\np h a r e s ,\\nq u a l i t é\\nd e s\\nﬂ u i d e s )\\nd e p u i s\\nl e\\nd e s i g n\\nm é c a n i q u e\\nj u s q u ’ a u x\\na l g o r i t h m e s\\ne m b a r q u é s .\\nJ ' a n i m e  é g a l e m e n t  l a  s t r a t é g i e  d ’ i n n o v a t i o n  e t  d e  p r o p r i é t é  i n t e l l e c t u e l l e  ( p r o c e s s u s ,  b r e v e t s )\\n*  O c t o b r e  2 0 0 8  –  M a i  2 0 1 4\\nR e s p o n s a b l e  P r o d u i t  C a p t e u r  c h e z  M e a s u r e m e n t  S p e c i a l t i e s ,\\nT o u l o u s e ,  F r a n c e\\nR e s p o n s a b l e\\nd u\\nd é v e l o p p e m e n t\\nt e c h n o l o g i q u e\\ne t\\nc o m m e r c i a l\\nd e\\nl a\\nl i g n e\\nd e\\nc a p t e u r s\\nd e\\np r o p r i é t é s\\nd e s\\nﬂ u i d e s\\n( F P S ) :\\nd e p u i s\\nl e\\nl a b o r a t o i r e\\nj u s q u ' à\\nl a\\nq u a l i ﬁ c a t i o n\\ne n\\np r o d u c t i o n\\np o u r\\nc l i e n t s\\na u t o m o b i l e s\\ni n t e r n a t i o n a u x  a v e c  a l g o r i t h m e s  e m b a r q u é s .\\n*  J a n v i e r  2 0 0 5  –  O c t o b r e  2 0 0 8\\nI n g é n i e u r  C o m b u s t i o n  c h e z  l ’ I F P - E N ,\\nP a r i s ,  F r a n c e\\nT e s t  e t  m e s u r e  d e s  f o r m u l a t i o n s  o p t i m a l e s  d e  b i o - c a r b u r a n t s  p o u r  l e s  m o t o r i s a t i o n s  m o d e r n e s .\\nÉ D U C A T I O N\\n*  S e p t e m b r e  2 0 1 9  –  M a i  2 0 2 0\\nD a t a  S c i e n c e  T e c h n i c a l  I n s t i t u t e ,  M a s t e r  e n  I A\\n*  S e p t e m b r e  2 0 0 3  –  S e p t e m b r e  2 0 0 5\\nI F P  S c h o o l ,  M a s t e r  P P M\\n*  S e p t e m b r e  2 0 0 3  –  S e p t e m b r e  2 0 0 5\\nE c o l e  N a t i o n a l e  S u p é r i e u r e  d e  C h i m i e  d e  P a r i s ,  M a s t e r\\nP R O J E T S  P E R S O N N E L S\\n*\\nC r é a t e u r\\nd e\\nR e p a r a t o r A I ,\\nl ' o u t i l\\nd e\\np r é d i c t i o n\\ne n\\nl i g n e\\nd e\\nl a\\nr é p a r a b i l i t é\\nd e s\\né q u i p e m e n t s\\né l e c t r o n i q u e s\\n(\\nh t t p s : / / j e a n m i l p i e d - r e p a r a t o r a i - r e p a r a t o r - i 7 c s b r . s t r e a m l i t a p p . c o m /\\n)\\n( 1 0 0  v i s i t e u r s / m o i s )\\n\""
      ]
     },
     "execution_count": 26,
     "metadata": {},
     "output_type": "execute_result"
    }
   ],
   "source": [
    "get_text_pdf('CV_Example.pdf')[0]"
   ]
  },
  {
   "cell_type": "code",
   "execution_count": 58,
   "id": "8e997cda",
   "metadata": {},
   "outputs": [],
   "source": [
    "def get_features(my_text):\n",
    "    page_numbers=len(my_text)\n",
    "    if page_numbers==1:\n",
    "        line_numbers=my_text[0].count('\\n')\n",
    "        my_text_ok=my_text[0].replace(' ','')\n",
    "        my_text_ok=my_text_ok.replace('\\n',' ')\n",
    "        word_numbers=len(my_text_ok.split())\n",
    "        unique_upper_words=list({i for i in [my_word for my_word in my_text_ok.split() if my_word.isupper()]})\n",
    "        \n",
    "        my_text_ok=my_text_ok.lower()\n",
    "        \n",
    "        #remove accents\n",
    "        repl = str.maketrans(\"àâéèêëûôöï\",\"aaeeeeuooi\")\n",
    "        my_text_ok=my_text_ok.translate(repl)\n",
    "\n",
    "        \n",
    "        # get email\n",
    "        match_email= re.search('[a-zA-Z0-9_.+-]+@[a-zA-Z0-9-]+\\.[a-zA-Z0-9-.]+',my_text_ok)\n",
    "        if match_email:\n",
    "            email=match_email.group()\n",
    "        else:\n",
    "            email='email not found'\n",
    "        \n",
    "        # get phone number\n",
    "        match_phone= re.search('(?:(?:\\+|00)33[\\s.-]{0,3}(?:\\(0\\)[\\s.-]{0,3})?|0)[1-9](?:(?:[\\s.-]?\\d{2}){4}|\\d{2}(?:[\\s.-]?\\d{3}){2})',my_text_ok)\n",
    "        if match_phone:\n",
    "            phone=match_phone.group()\n",
    "        else:\n",
    "            phone='phone not found'\n",
    "        \n",
    "        # get github account\n",
    "        if 'github' in my_text_ok:\n",
    "            has_github='github'\n",
    "        else:\n",
    "            has_github='github not mentionned'\n",
    "        \n",
    "        # get linkedin account\n",
    "        if 'linkedin' in my_text_ok:\n",
    "            has_linkedin='linkedin'\n",
    "        else:\n",
    "            has_linkedin='linkedin not mentionned'\n",
    "            \n",
    "        #count key words from a competence list\n",
    "        list_keycomp=['ia ','ai ','data','datascience', 'python','sql','docker','cloud','aws', 'ml', 'algorithm', 'statisti','keras','pytorch','machine learning','tensorflow','opencv','computer vision','pandas','numpy','nlp']\n",
    "        the_data_comp=[my_comp for my_comp in list_keycomp if my_comp in my_text_ok]\n",
    "        \n",
    "        #count key words from a diploma list\n",
    "        list_keydiploma=['phd','docteur','master','iut','dut','ingenie','msc','bac','license','maitrise','master2', 'ecole','école','superieu']\n",
    "        the_data_diploma=[my_dipl for my_dipl in list_keydiploma if my_dipl in my_text_ok]\n",
    "                \n",
    "    return my_text_ok, [page_numbers, line_numbers, word_numbers, unique_upper_words, email, phone, has_github, has_linkedin, the_data_comp, the_data_diploma]"
   ]
  },
  {
   "cell_type": "code",
   "execution_count": 60,
   "id": "e6746ffe",
   "metadata": {},
   "outputs": [
    {
     "data": {
      "text/plain": [
       "(\"jeanmilpied datasciencemanager lieu:paris email:jean.milpied@gmail.com tel:0675471742 profil manager technique avec plus de 15 ans d'experience, developpeur python passionne par la data et la computer vision, je construis et j'encadre avec agilite des equipes data performantes pour un impact maximum de l'ia sur les produitsetlesapplicationsdeployeessurlecloud. competences ★★★★★ leadershipetmanagement ★★★★☆ datascience(stats,ml,dl) ★★★★★ python ★★★★☆ cloud(aws) ★★★★☆ computer vision (ocr, yolo object detection) linkedin.com/in/jean-m-595778118 https://github.com/jeanmilpied experienceprofessionnelle *mai2020–present managerdatasciencechezaltaroad, paris,france responsable de la roadmap des technologies d'ia necessaires a une experience client optimale, je construis et pilote l’equipe data. depuis les modeles de computer vision et nlp, jusqu'aux algorithmes d'auto-calibration des capteurs iot, mes missions sont de decider, organiser, developper, coder et mettre en productionlesalgorithmesdansnosapplicationsetinterfacessurlecloud. techno:tensorﬂow,keras,pytesseract,yolo,lambda,git,docker *mai2014–septembre2019 managerr&dchezteconnectivity, toulouse,france manager de l'equipe r&d, je pilote les projets d’innovation technologiques de capteurs automobiles (pluie, allumage des phares, qualite des ﬂuides) depuis le design mecanique jusqu’aux algorithmes embarques. j'animeegalementlastrategied’innovationetdeproprieteintellectuelle(processus,brevets) *octobre2008–mai2014 responsableproduitcapteurchezmeasurementspecialties, toulouse,france responsable du developpement technologique et commercial de la ligne de capteurs de proprietes des ﬂuides (fps): depuis le laboratoire jusqu'a la qualiﬁcation en production pour clients automobiles internationauxavecalgorithmesembarques. *janvier2005–octobre2008 ingenieurcombustionchezl’ifp-en, paris,france testetmesuredesformulationsoptimalesdebio-carburantspourlesmotorisationsmodernes. education *septembre2019–mai2020 datasciencetechnicalinstitute,masterenia *septembre2003–septembre2005 ifpschool,masterppm *septembre2003–septembre2005 ecolenationalesuperieuredechimiedeparis,master projetspersonnels * createur de reparatorai, l'outil de prediction en ligne de la reparabilite des equipements electroniques ( https://jeanmilpied-reparatorai-reparator-i7csbr.streamlitapp.com/ ) (100visiteurs/mois) \",\n",
       " [1,\n",
       "  204,\n",
       "  204,\n",
       "  ['EXPÉRIENCEPROFESSIONNELLE',\n",
       "   'COMPÉTENCES',\n",
       "   '(FPS):',\n",
       "   'YOLO',\n",
       "   'PROJETSPERSONNELS',\n",
       "   '(OCR,',\n",
       "   'R&D,',\n",
       "   'ÉDUCATION',\n",
       "   'PROFIL',\n",
       "   'NLP,'],\n",
       "  'jean.milpied@gmail.com',\n",
       "  '0675471742',\n",
       "  'github',\n",
       "  'linkedin',\n",
       "  ['ia ',\n",
       "   'data',\n",
       "   'datascience',\n",
       "   'python',\n",
       "   'docker',\n",
       "   'cloud',\n",
       "   'aws',\n",
       "   'ml',\n",
       "   'algorithm',\n",
       "   'keras',\n",
       "   'computer vision',\n",
       "   'nlp'],\n",
       "  ['master', 'ingenie', 'ecole', 'superieu']])"
      ]
     },
     "execution_count": 60,
     "metadata": {},
     "output_type": "execute_result"
    }
   ],
   "source": [
    "get_features(get_text_pdf('CV_Example.pdf'))"
   ]
  },
  {
   "cell_type": "code",
   "execution_count": null,
   "id": "3130ff79",
   "metadata": {},
   "outputs": [],
   "source": []
  }
 ],
 "metadata": {
  "kernelspec": {
   "display_name": "Python 3",
   "language": "python",
   "name": "python3"
  },
  "language_info": {
   "codemirror_mode": {
    "name": "ipython",
    "version": 3
   },
   "file_extension": ".py",
   "mimetype": "text/x-python",
   "name": "python",
   "nbconvert_exporter": "python",
   "pygments_lexer": "ipython3",
   "version": "3.7.10"
  }
 },
 "nbformat": 4,
 "nbformat_minor": 5
}
